{
 "cells": [
  {
   "cell_type": "code",
   "execution_count": 2,
   "metadata": {
    "ExecuteTime": {
     "end_time": "2021-02-17T09:15:10.671447Z",
     "start_time": "2021-02-17T09:15:10.669255Z"
    }
   },
   "outputs": [],
   "source": [
    "from merit.data_tools import calc_beta_from_z\n",
    "import pandas as pd"
   ]
  },
  {
   "cell_type": "markdown",
   "metadata": {},
   "source": [
    "A throwaway notebook to test `merit.data_tools.calc_beta_from_z`.\n",
    "\n",
    "1. Load first 100 rows of raw eQTLgen cis-eqtl data and allele frequency data\n",
    "2. Use merit to append beta and SE columns\n",
    "3. Save to a file called `eqtlgen_ciseqtl_head_100_merit.txt`"
   ]
  },
  {
   "cell_type": "code",
   "execution_count": null,
   "metadata": {},
   "outputs": [],
   "source": [
    "# read raw data\n",
    "eqtlgen_100 = pd.read_csv(\"../tests/eqtlgen_ciseqtl_head_100.txt\")\n",
    "\n",
    "allele_freq = pd.read_csv(\n",
    "    \"../tests/data/raw/2018-07-18_SNP_AF_for_AlleleB_combined_allele_counts_and_MAF_pos_added.txt\",\n",
    "    usecols=)"
   ]
  }
 ],
 "metadata": {
  "kernelspec": {
   "display_name": "Python [conda env:merit]",
   "language": "python",
   "name": "conda-env-merit-py"
  },
  "language_info": {
   "codemirror_mode": {
    "name": "ipython",
    "version": 3
   },
   "file_extension": ".py",
   "mimetype": "text/x-python",
   "name": "python",
   "nbconvert_exporter": "python",
   "pygments_lexer": "ipython3",
   "version": "3.7.9"
  },
  "toc": {
   "base_numbering": 1,
   "nav_menu": {},
   "number_sections": true,
   "sideBar": true,
   "skip_h1_title": false,
   "title_cell": "Table of Contents",
   "title_sidebar": "Contents",
   "toc_cell": false,
   "toc_position": {},
   "toc_section_display": true,
   "toc_window_display": false
  }
 },
 "nbformat": 4,
 "nbformat_minor": 4
}
